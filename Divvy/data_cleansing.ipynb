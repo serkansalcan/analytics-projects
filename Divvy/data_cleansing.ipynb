{
 "cells": [
  {
   "cell_type": "code",
   "execution_count": 24,
   "id": "bda14811",
   "metadata": {},
   "outputs": [],
   "source": [
    "import numpy as np\n",
    "import pandas as pd\n",
    "import glob\n",
    "import matplotlib.pyplot as plt"
   ]
  },
  {
   "cell_type": "code",
   "execution_count": 2,
   "id": "ca7e87f7",
   "metadata": {},
   "outputs": [],
   "source": [
    "# Loading all .csv files (6) and concatenating them into a single dataframe\n",
    "path = r'C:\\divvy trips\\raw_data'\n",
    "all_files = glob.glob(path + \"/*.csv\")\n",
    "\n",
    "df_from_each_file = [pd.read_csv(file, index_col=None, header=0) for file in all_files]\n",
    "\n",
    "df = pd.concat(df_from_each_file, axis=0, ignore_index=True)"
   ]
  },
  {
   "cell_type": "code",
   "execution_count": 3,
   "id": "079da0ff",
   "metadata": {},
   "outputs": [
    {
     "name": "stdout",
     "output_type": "stream",
     "text": [
      "Shape: (3981367, 13)\n"
     ]
    },
    {
     "data": {
      "text/html": [
       "<div>\n",
       "<style scoped>\n",
       "    .dataframe tbody tr th:only-of-type {\n",
       "        vertical-align: middle;\n",
       "    }\n",
       "\n",
       "    .dataframe tbody tr th {\n",
       "        vertical-align: top;\n",
       "    }\n",
       "\n",
       "    .dataframe thead th {\n",
       "        text-align: right;\n",
       "    }\n",
       "</style>\n",
       "<table border=\"1\" class=\"dataframe\">\n",
       "  <thead>\n",
       "    <tr style=\"text-align: right;\">\n",
       "      <th></th>\n",
       "      <th>ride_id</th>\n",
       "      <th>rideable_type</th>\n",
       "      <th>started_at</th>\n",
       "      <th>ended_at</th>\n",
       "      <th>start_station_name</th>\n",
       "      <th>start_station_id</th>\n",
       "      <th>end_station_name</th>\n",
       "      <th>end_station_id</th>\n",
       "      <th>start_lat</th>\n",
       "      <th>start_lng</th>\n",
       "      <th>end_lat</th>\n",
       "      <th>end_lng</th>\n",
       "      <th>member_casual</th>\n",
       "    </tr>\n",
       "  </thead>\n",
       "  <tbody>\n",
       "    <tr>\n",
       "      <th>0</th>\n",
       "      <td>6C992BD37A98A63F</td>\n",
       "      <td>classic_bike</td>\n",
       "      <td>2021-04-12 18:25:36</td>\n",
       "      <td>2021-04-12 18:56:55</td>\n",
       "      <td>State St &amp; Pearson St</td>\n",
       "      <td>TA1307000061</td>\n",
       "      <td>Southport Ave &amp; Waveland Ave</td>\n",
       "      <td>13235</td>\n",
       "      <td>41.897448</td>\n",
       "      <td>-87.628722</td>\n",
       "      <td>41.948150</td>\n",
       "      <td>-87.663940</td>\n",
       "      <td>member</td>\n",
       "    </tr>\n",
       "    <tr>\n",
       "      <th>1</th>\n",
       "      <td>1E0145613A209000</td>\n",
       "      <td>docked_bike</td>\n",
       "      <td>2021-04-27 17:27:11</td>\n",
       "      <td>2021-04-27 18:31:29</td>\n",
       "      <td>Dorchester Ave &amp; 49th St</td>\n",
       "      <td>KA1503000069</td>\n",
       "      <td>Dorchester Ave &amp; 49th St</td>\n",
       "      <td>KA1503000069</td>\n",
       "      <td>41.805772</td>\n",
       "      <td>-87.592464</td>\n",
       "      <td>41.805772</td>\n",
       "      <td>-87.592464</td>\n",
       "      <td>casual</td>\n",
       "    </tr>\n",
       "    <tr>\n",
       "      <th>2</th>\n",
       "      <td>E498E15508A80BAD</td>\n",
       "      <td>docked_bike</td>\n",
       "      <td>2021-04-03 12:42:45</td>\n",
       "      <td>2021-04-07 11:40:24</td>\n",
       "      <td>Loomis Blvd &amp; 84th St</td>\n",
       "      <td>20121</td>\n",
       "      <td>Loomis Blvd &amp; 84th St</td>\n",
       "      <td>20121</td>\n",
       "      <td>41.741487</td>\n",
       "      <td>-87.658410</td>\n",
       "      <td>41.741487</td>\n",
       "      <td>-87.658410</td>\n",
       "      <td>casual</td>\n",
       "    </tr>\n",
       "    <tr>\n",
       "      <th>3</th>\n",
       "      <td>1887262AD101C604</td>\n",
       "      <td>classic_bike</td>\n",
       "      <td>2021-04-17 09:17:42</td>\n",
       "      <td>2021-04-17 09:42:48</td>\n",
       "      <td>Honore St &amp; Division St</td>\n",
       "      <td>TA1305000034</td>\n",
       "      <td>Southport Ave &amp; Waveland Ave</td>\n",
       "      <td>13235</td>\n",
       "      <td>41.903119</td>\n",
       "      <td>-87.673935</td>\n",
       "      <td>41.948150</td>\n",
       "      <td>-87.663940</td>\n",
       "      <td>member</td>\n",
       "    </tr>\n",
       "    <tr>\n",
       "      <th>4</th>\n",
       "      <td>C123548CAB2A32A5</td>\n",
       "      <td>docked_bike</td>\n",
       "      <td>2021-04-03 12:42:25</td>\n",
       "      <td>2021-04-03 14:13:42</td>\n",
       "      <td>Loomis Blvd &amp; 84th St</td>\n",
       "      <td>20121</td>\n",
       "      <td>Loomis Blvd &amp; 84th St</td>\n",
       "      <td>20121</td>\n",
       "      <td>41.741487</td>\n",
       "      <td>-87.658410</td>\n",
       "      <td>41.741487</td>\n",
       "      <td>-87.658410</td>\n",
       "      <td>casual</td>\n",
       "    </tr>\n",
       "  </tbody>\n",
       "</table>\n",
       "</div>"
      ],
      "text/plain": [
       "            ride_id rideable_type           started_at             ended_at  \\\n",
       "0  6C992BD37A98A63F  classic_bike  2021-04-12 18:25:36  2021-04-12 18:56:55   \n",
       "1  1E0145613A209000   docked_bike  2021-04-27 17:27:11  2021-04-27 18:31:29   \n",
       "2  E498E15508A80BAD   docked_bike  2021-04-03 12:42:45  2021-04-07 11:40:24   \n",
       "3  1887262AD101C604  classic_bike  2021-04-17 09:17:42  2021-04-17 09:42:48   \n",
       "4  C123548CAB2A32A5   docked_bike  2021-04-03 12:42:25  2021-04-03 14:13:42   \n",
       "\n",
       "         start_station_name start_station_id              end_station_name  \\\n",
       "0     State St & Pearson St     TA1307000061  Southport Ave & Waveland Ave   \n",
       "1  Dorchester Ave & 49th St     KA1503000069      Dorchester Ave & 49th St   \n",
       "2     Loomis Blvd & 84th St            20121         Loomis Blvd & 84th St   \n",
       "3   Honore St & Division St     TA1305000034  Southport Ave & Waveland Ave   \n",
       "4     Loomis Blvd & 84th St            20121         Loomis Blvd & 84th St   \n",
       "\n",
       "  end_station_id  start_lat  start_lng    end_lat    end_lng member_casual  \n",
       "0          13235  41.897448 -87.628722  41.948150 -87.663940        member  \n",
       "1   KA1503000069  41.805772 -87.592464  41.805772 -87.592464        casual  \n",
       "2          20121  41.741487 -87.658410  41.741487 -87.658410        casual  \n",
       "3          13235  41.903119 -87.673935  41.948150 -87.663940        member  \n",
       "4          20121  41.741487 -87.658410  41.741487 -87.658410        casual  "
      ]
     },
     "execution_count": 3,
     "metadata": {},
     "output_type": "execute_result"
    }
   ],
   "source": [
    "print(f'Shape: {df.shape}')\n",
    "df.head()"
   ]
  },
  {
   "cell_type": "code",
   "execution_count": 4,
   "id": "207fb661",
   "metadata": {
    "scrolled": true
   },
   "outputs": [
    {
     "data": {
      "text/plain": [
       "ride_id                object\n",
       "rideable_type          object\n",
       "started_at             object\n",
       "ended_at               object\n",
       "start_station_name     object\n",
       "start_station_id       object\n",
       "end_station_name       object\n",
       "end_station_id         object\n",
       "start_lat             float64\n",
       "start_lng             float64\n",
       "end_lat               float64\n",
       "end_lng               float64\n",
       "member_casual          object\n",
       "dtype: object"
      ]
     },
     "execution_count": 4,
     "metadata": {},
     "output_type": "execute_result"
    }
   ],
   "source": [
    "df.dtypes"
   ]
  },
  {
   "cell_type": "markdown",
   "id": "2b355165",
   "metadata": {},
   "source": [
    "#### Fixing data types: 'started_at' and  'ended_at' as datetime."
   ]
  },
  {
   "cell_type": "code",
   "execution_count": 5,
   "id": "3b2519b7",
   "metadata": {
    "scrolled": true
   },
   "outputs": [
    {
     "data": {
      "text/plain": [
       "ride_id                       object\n",
       "rideable_type                 object\n",
       "started_at            datetime64[ns]\n",
       "ended_at              datetime64[ns]\n",
       "start_station_name            object\n",
       "start_station_id              object\n",
       "end_station_name              object\n",
       "end_station_id                object\n",
       "start_lat                    float64\n",
       "start_lng                    float64\n",
       "end_lat                      float64\n",
       "end_lng                      float64\n",
       "member_casual                 object\n",
       "dtype: object"
      ]
     },
     "execution_count": 5,
     "metadata": {},
     "output_type": "execute_result"
    }
   ],
   "source": [
    "df['started_at'] = pd.to_datetime(df['started_at'])\n",
    "df['ended_at'] = pd.to_datetime(df['ended_at'])\n",
    "\n",
    "df.dtypes"
   ]
  },
  {
   "cell_type": "markdown",
   "id": "089727ff",
   "metadata": {},
   "source": [
    "### Feature Engineering\n",
    "\n",
    "1. creating temporal features: 'hour', 'weekofday', and 'month' columns\n",
    "2. calculating 'ride_duration' column\n",
    "3. calculating 'distance' column\n",
    "4. creating 'same location' colum: are start and end stations the same?"
   ]
  },
  {
   "cell_type": "markdown",
   "id": "747535b0",
   "metadata": {},
   "source": [
    "### hour, day, month, and year columns"
   ]
  },
  {
   "cell_type": "code",
   "execution_count": 6,
   "id": "3b279998",
   "metadata": {},
   "outputs": [],
   "source": [
    "# Hour\n",
    "df['hour'] = df['started_at'].dt.hour\n",
    "\n",
    "# Day\n",
    "df['dayofweek'] = df['started_at'].dt.day_name()\n",
    "# set categorical order\n",
    "df['dayofweek'] = pd.Categorical(df['dayofweek'],categories=['Monday', 'Tuesday', 'Wednesday', 'Thursday', 'Friday', 'Saturday', 'Sunday'], ordered=True)\n",
    "\n",
    "# Month\n",
    "df['month'] = df['started_at'].dt.month_name()\n",
    "df['month'] = pd.Categorical(df['month'],categories=['April', 'May', 'June', 'July', 'August', 'September'], ordered=True)"
   ]
  },
  {
   "cell_type": "markdown",
   "id": "8a7b54de",
   "metadata": {},
   "source": [
    "### ride_duration (in minutes)"
   ]
  },
  {
   "cell_type": "code",
   "execution_count": 7,
   "id": "6edd6b6b",
   "metadata": {},
   "outputs": [],
   "source": [
    "df['ride_duration'] = round((df['ended_at'] - df['started_at']).dt.total_seconds()/60, 2)"
   ]
  },
  {
   "cell_type": "code",
   "execution_count": 8,
   "id": "a54dd4f1",
   "metadata": {},
   "outputs": [
    {
     "name": "stdout",
     "output_type": "stream",
     "text": [
      "Average ride duration is 23.57 min.\n"
     ]
    }
   ],
   "source": [
    "avg_dur = round(df['ride_duration'].mean(),2)\n",
    "print(f'Average ride duration is {avg_dur} min.')"
   ]
  },
  {
   "cell_type": "markdown",
   "id": "6bf77893",
   "metadata": {},
   "source": [
    "### distance (in kilometers)"
   ]
  },
  {
   "cell_type": "code",
   "execution_count": 9,
   "id": "2d320248",
   "metadata": {},
   "outputs": [],
   "source": [
    "# vectorized haversine function\n",
    "# ref.: https://stackoverflow.com/questions/40452759\n",
    "\n",
    "def haversine(lat1, lon1, lat2, lon2, to_radians=True, earth_radius=6371):\n",
    "    \n",
    "    if to_radians:\n",
    "        lat1, lon1, lat2, lon2 = np.radians([lat1, lon1, lat2, lon2])\n",
    "\n",
    "    a = np.sin((lat2-lat1)/2.0)**2 + np.cos(lat1) * np.cos(lat2) * np.sin((lon2-lon1)/2.0)**2\n",
    "\n",
    "    return earth_radius * 2 * np.arcsin(np.sqrt(a))\n",
    "\n",
    "df['distance'] = np.around(haversine(df['start_lat'], df['start_lng'], df['end_lat'], df['end_lng']), 2)"
   ]
  },
  {
   "cell_type": "code",
   "execution_count": 10,
   "id": "e8c93432",
   "metadata": {},
   "outputs": [
    {
     "name": "stdout",
     "output_type": "stream",
     "text": [
      "Average distance is 2.25 km.\n"
     ]
    }
   ],
   "source": [
    "avg_dist = round(df['distance'].mean(),2)\n",
    "print(f'Average distance is {avg_dist} km.')"
   ]
  },
  {
   "cell_type": "markdown",
   "id": "3dd700ad",
   "metadata": {},
   "source": [
    "### Removing 'bad' data, if there is any\n",
    "- negative 'ride_duration'\n",
    "\n",
    "- negative 'distance'"
   ]
  },
  {
   "cell_type": "code",
   "execution_count": 11,
   "id": "94ac2d17",
   "metadata": {},
   "outputs": [
    {
     "name": "stdout",
     "output_type": "stream",
     "text": [
      "# of negative values in 'ride duration' column: 90\n",
      "# of negative values in 'distance' column: 0\n"
     ]
    }
   ],
   "source": [
    "negative_ride_duration = df[df['ride_duration'] < 0]\n",
    "negative_distance = df[df['distance'] < 0]\n",
    "print(f\"# of negative values in 'ride duration' column: {len(negative_ride_duration)}\")\n",
    "print(f\"# of negative values in 'distance' column: {len(negative_distance)}\")"
   ]
  },
  {
   "cell_type": "code",
   "execution_count": 12,
   "id": "7a9dc969",
   "metadata": {},
   "outputs": [],
   "source": [
    "df.drop(negative_ride_duration.index, inplace=True)"
   ]
  },
  {
   "cell_type": "markdown",
   "id": "9e5bbdac",
   "metadata": {},
   "source": [
    "### Are the start and end stations the 'same location'?"
   ]
  },
  {
   "cell_type": "code",
   "execution_count": 13,
   "id": "c604eb1e",
   "metadata": {},
   "outputs": [],
   "source": [
    "df['same_location'] = (df['start_station_name'] == df['end_station_name']).astype(int)"
   ]
  },
  {
   "cell_type": "markdown",
   "id": "461217af",
   "metadata": {},
   "source": [
    "### Checking # of rides by bike types"
   ]
  },
  {
   "cell_type": "code",
   "execution_count": 14,
   "id": "1c97d77e",
   "metadata": {},
   "outputs": [
    {
     "data": {
      "text/plain": [
       "rideable_type\n",
       "classic_bike     2430894\n",
       "docked_bike       257883\n",
       "electric_bike    1292500\n",
       "Name: ride_id, dtype: int64"
      ]
     },
     "execution_count": 14,
     "metadata": {},
     "output_type": "execute_result"
    }
   ],
   "source": [
    "df.groupby('rideable_type').ride_id.count()"
   ]
  },
  {
   "cell_type": "code",
   "execution_count": 15,
   "id": "088a82a2",
   "metadata": {},
   "outputs": [
    {
     "name": "stdout",
     "output_type": "stream",
     "text": [
      "docked bikes' percentage is 6.477394062256909\n"
     ]
    }
   ],
   "source": [
    "docked_bikes = df[df.rideable_type == 'docked_bike'].ride_id.count()\n",
    "all_bikes = df.ride_id.count()\n",
    "print(f\"docked bikes' percentage is {100*(docked_bikes/all_bikes)}\")"
   ]
  },
  {
   "cell_type": "markdown",
   "id": "1df2994d",
   "metadata": {},
   "source": [
    "Since docked bikes represents low share of rides, I will not use it in the analysis and continue with classic and electric bikes."
   ]
  },
  {
   "cell_type": "code",
   "execution_count": 16,
   "id": "c45f2055",
   "metadata": {},
   "outputs": [],
   "source": [
    "df = df[(df.rideable_type == 'classic_bike') | (df.rideable_type == 'electric_bike')]"
   ]
  },
  {
   "cell_type": "markdown",
   "id": "228d5428",
   "metadata": {},
   "source": [
    "### Checking duplicates"
   ]
  },
  {
   "cell_type": "code",
   "execution_count": 17,
   "id": "2d04377e",
   "metadata": {
    "scrolled": true
   },
   "outputs": [
    {
     "data": {
      "text/plain": [
       "0"
      ]
     },
     "execution_count": 17,
     "metadata": {},
     "output_type": "execute_result"
    }
   ],
   "source": [
    "df.duplicated().sum()"
   ]
  },
  {
   "cell_type": "markdown",
   "id": "1f8f0fc0",
   "metadata": {},
   "source": [
    "There are no duplicate rows in the dataset."
   ]
  },
  {
   "cell_type": "markdown",
   "id": "29ce7a51",
   "metadata": {},
   "source": [
    "### Removing columns that won't be used in the analysis.\n",
    "\n"
   ]
  },
  {
   "cell_type": "code",
   "execution_count": 18,
   "id": "74146367",
   "metadata": {},
   "outputs": [],
   "source": [
    "cols = ['started_at', 'ended_at', 'end_station_name', 'start_station_id', 'end_station_id', 'end_lat', 'end_lng']\n",
    "\n",
    "df.drop(cols, axis=1, inplace=True)"
   ]
  },
  {
   "cell_type": "markdown",
   "id": "192ede46",
   "metadata": {},
   "source": [
    "### Checking missing values"
   ]
  },
  {
   "cell_type": "code",
   "execution_count": 19,
   "id": "fe3989d2",
   "metadata": {
    "scrolled": false
   },
   "outputs": [
    {
     "data": {
      "text/plain": [
       "ride_id                0.000000\n",
       "rideable_type          0.000000\n",
       "start_station_name    11.514119\n",
       "start_lat              0.000000\n",
       "start_lng              0.000000\n",
       "member_casual          0.000000\n",
       "hour                   0.000000\n",
       "dayofweek              0.000000\n",
       "month                  0.000000\n",
       "ride_duration          0.000000\n",
       "distance               0.093141\n",
       "same_location          0.000000\n",
       "dtype: float64"
      ]
     },
     "execution_count": 19,
     "metadata": {},
     "output_type": "execute_result"
    }
   ],
   "source": [
    "# the percentage of null values in the dataset - checking each column\n",
    "(df.isna().sum() / len(df)) * 100"
   ]
  },
  {
   "cell_type": "markdown",
   "id": "688f5778",
   "metadata": {},
   "source": [
    "It seems that almost all null values are in start_station_name column.\n",
    "\n",
    "This dataframe contains 6 months of data. Let's check their percentages for each month. If it is not distributed evenly, dropping them may create problems."
   ]
  },
  {
   "cell_type": "code",
   "execution_count": 25,
   "id": "1010b390",
   "metadata": {},
   "outputs": [
    {
     "data": {
      "image/png": "[encoded data removed]",
      "text/plain": [
       "<Figure size 720x432 with 1 Axes>"
      ]
     },
     "metadata": {
      "needs_background": "light"
     },
     "output_type": "display_data"
    }
   ],
   "source": [
    "# Calculating the percentage of null values in station_name columns for each month\n",
    "df_start_null = [(df_from_each_file[month]['start_station_name'].isna().sum()/len(df_from_each_file[month]))*100 for month in range(6)]\n",
    "\n",
    "# Plotting\n",
    "plt.figure(figsize=(10,6))\n",
    "month = ['04', '05', '06', '07', '08', '09']\n",
    "plt.plot(month, df_start_null, label='start_station name')\n",
    "plt.xlabel('Month')\n",
    "plt.yticks(range(0,20))\n",
    "plt.ylabel('Null Values %')\n",
    "plt.legend()\n",
    "plt.show()"
   ]
  },
  {
   "cell_type": "markdown",
   "id": "cb536a69",
   "metadata": {},
   "source": [
    "Null values in the column vary from 8% to %13 for each month. It doesn't seem like all null values coming from a certain month.\n",
    "\n",
    "I will simply drop those null values."
   ]
  },
  {
   "cell_type": "code",
   "execution_count": null,
   "id": "ed0c2961",
   "metadata": {},
   "outputs": [],
   "source": [
    "df.dropna(inplace=True)"
   ]
  },
  {
   "cell_type": "markdown",
   "id": "d6a2da8d",
   "metadata": {},
   "source": [
    "### Removing Outliers\n",
    "- ride_duration and distance columns are skewed and not normally distributed. I will simply remove outliers using 0.001 and 0.999 percentiles."
   ]
  },
  {
   "cell_type": "code",
   "execution_count": null,
   "id": "99e08fce",
   "metadata": {},
   "outputs": [],
   "source": [
    "# removing outliers in 'distance' column\n",
    "min_threshold, max_threshold = df.distance.quantile([0.001, 0.999])\n",
    "df = df[(df.distance>min_threshold) & (df.distance<max_threshold)]"
   ]
  },
  {
   "cell_type": "code",
   "execution_count": null,
   "id": "de9f26cc",
   "metadata": {},
   "outputs": [],
   "source": [
    "# removing outliers in 'ride_duration' column\n",
    "min_threshold, max_threshold = df.ride_duration.quantile([0.001, 0.999])\n",
    "df = df[(df.ride_duration>min_threshold) & (df.ride_duration<max_threshold)]"
   ]
  },
  {
   "cell_type": "code",
   "execution_count": 21,
   "id": "919cb46a",
   "metadata": {
    "scrolled": false
   },
   "outputs": [],
   "source": [
    "df.reset_index(drop=True, inplace=True)"
   ]
  },
  {
   "cell_type": "code",
   "execution_count": 22,
   "id": "007cc887",
   "metadata": {},
   "outputs": [
    {
     "data": {
      "text/plain": [
       "(3723394, 12)"
      ]
     },
     "execution_count": 22,
     "metadata": {},
     "output_type": "execute_result"
    }
   ],
   "source": [
    "df.shape"
   ]
  },
  {
   "cell_type": "code",
   "execution_count": 27,
   "id": "1b562047",
   "metadata": {},
   "outputs": [
    {
     "data": {
      "text/html": [
       "<div>\n",
       "<style scoped>\n",
       "    .dataframe tbody tr th:only-of-type {\n",
       "        vertical-align: middle;\n",
       "    }\n",
       "\n",
       "    .dataframe tbody tr th {\n",
       "        vertical-align: top;\n",
       "    }\n",
       "\n",
       "    .dataframe thead th {\n",
       "        text-align: right;\n",
       "    }\n",
       "</style>\n",
       "<table border=\"1\" class=\"dataframe\">\n",
       "  <thead>\n",
       "    <tr style=\"text-align: right;\">\n",
       "      <th></th>\n",
       "      <th>ride_id</th>\n",
       "      <th>rideable_type</th>\n",
       "      <th>start_station_name</th>\n",
       "      <th>start_lat</th>\n",
       "      <th>start_lng</th>\n",
       "      <th>member_casual</th>\n",
       "      <th>hour</th>\n",
       "      <th>dayofweek</th>\n",
       "      <th>month</th>\n",
       "      <th>ride_duration</th>\n",
       "      <th>distance</th>\n",
       "      <th>same_location</th>\n",
       "    </tr>\n",
       "  </thead>\n",
       "  <tbody>\n",
       "    <tr>\n",
       "      <th>0</th>\n",
       "      <td>6C992BD37A98A63F</td>\n",
       "      <td>classic_bike</td>\n",
       "      <td>State St &amp; Pearson St</td>\n",
       "      <td>41.897448</td>\n",
       "      <td>-87.628722</td>\n",
       "      <td>member</td>\n",
       "      <td>18</td>\n",
       "      <td>Monday</td>\n",
       "      <td>April</td>\n",
       "      <td>31.32</td>\n",
       "      <td>6.35</td>\n",
       "      <td>0</td>\n",
       "    </tr>\n",
       "    <tr>\n",
       "      <th>1</th>\n",
       "      <td>1887262AD101C604</td>\n",
       "      <td>classic_bike</td>\n",
       "      <td>Honore St &amp; Division St</td>\n",
       "      <td>41.903119</td>\n",
       "      <td>-87.673935</td>\n",
       "      <td>member</td>\n",
       "      <td>9</td>\n",
       "      <td>Saturday</td>\n",
       "      <td>April</td>\n",
       "      <td>25.10</td>\n",
       "      <td>5.08</td>\n",
       "      <td>0</td>\n",
       "    </tr>\n",
       "    <tr>\n",
       "      <th>2</th>\n",
       "      <td>097E76F3651B1AC1</td>\n",
       "      <td>classic_bike</td>\n",
       "      <td>Clinton St &amp; Polk St</td>\n",
       "      <td>41.871467</td>\n",
       "      <td>-87.640949</td>\n",
       "      <td>casual</td>\n",
       "      <td>18</td>\n",
       "      <td>Sunday</td>\n",
       "      <td>April</td>\n",
       "      <td>0.68</td>\n",
       "      <td>0.00</td>\n",
       "      <td>1</td>\n",
       "    </tr>\n",
       "    <tr>\n",
       "      <th>3</th>\n",
       "      <td>53C38EB01E6FA5C4</td>\n",
       "      <td>classic_bike</td>\n",
       "      <td>Ashland Ave &amp; 63rd St</td>\n",
       "      <td>41.779374</td>\n",
       "      <td>-87.664843</td>\n",
       "      <td>casual</td>\n",
       "      <td>16</td>\n",
       "      <td>Saturday</td>\n",
       "      <td>April</td>\n",
       "      <td>1.43</td>\n",
       "      <td>0.00</td>\n",
       "      <td>1</td>\n",
       "    </tr>\n",
       "    <tr>\n",
       "      <th>4</th>\n",
       "      <td>D53AC014EFD6E2BA</td>\n",
       "      <td>electric_bike</td>\n",
       "      <td>Dorchester Ave &amp; 49th St</td>\n",
       "      <td>41.805832</td>\n",
       "      <td>-87.592478</td>\n",
       "      <td>casual</td>\n",
       "      <td>16</td>\n",
       "      <td>Tuesday</td>\n",
       "      <td>April</td>\n",
       "      <td>25.83</td>\n",
       "      <td>0.02</td>\n",
       "      <td>1</td>\n",
       "    </tr>\n",
       "  </tbody>\n",
       "</table>\n",
       "</div>"
      ],
      "text/plain": [
       "            ride_id  rideable_type        start_station_name  start_lat  \\\n",
       "0  6C992BD37A98A63F   classic_bike     State St & Pearson St  41.897448   \n",
       "1  1887262AD101C604   classic_bike   Honore St & Division St  41.903119   \n",
       "2  097E76F3651B1AC1   classic_bike      Clinton St & Polk St  41.871467   \n",
       "3  53C38EB01E6FA5C4   classic_bike     Ashland Ave & 63rd St  41.779374   \n",
       "4  D53AC014EFD6E2BA  electric_bike  Dorchester Ave & 49th St  41.805832   \n",
       "\n",
       "   start_lng member_casual  hour dayofweek  month  ride_duration  distance  \\\n",
       "0 -87.628722        member    18    Monday  April          31.32      6.35   \n",
       "1 -87.673935        member     9  Saturday  April          25.10      5.08   \n",
       "2 -87.640949        casual    18    Sunday  April           0.68      0.00   \n",
       "3 -87.664843        casual    16  Saturday  April           1.43      0.00   \n",
       "4 -87.592478        casual    16   Tuesday  April          25.83      0.02   \n",
       "\n",
       "   same_location  \n",
       "0              0  \n",
       "1              0  \n",
       "2              1  \n",
       "3              1  \n",
       "4              1  "
      ]
     },
     "execution_count": 27,
     "metadata": {},
     "output_type": "execute_result"
    }
   ],
   "source": [
    "df.head()"
   ]
  },
  {
   "cell_type": "code",
   "execution_count": 26,
   "id": "0d737411",
   "metadata": {},
   "outputs": [],
   "source": [
    "df.to_csv('cleaned_data.csv',index=False)"
   ]
  }
 ],
 "metadata": {
  "kernelspec": {
   "display_name": "Python 3",
   "language": "python",
   "name": "python3"
  },
  "language_info": {
   "codemirror_mode": {
    "name": "ipython",
    "version": 3
   },
   "file_extension": ".py",
   "mimetype": "text/x-python",
   "name": "python",
   "nbconvert_exporter": "python",
   "pygments_lexer": "ipython3",
   "version": "3.8.8"
  }
 },
 "nbformat": 4,
 "nbformat_minor": 5
}
